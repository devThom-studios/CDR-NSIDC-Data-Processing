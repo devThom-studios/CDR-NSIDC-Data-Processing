{
 "cells": [
  {
   "cell_type": "code",
   "execution_count": 1,
   "id": "e74a9ddb-fefc-4dbe-b11c-f6dce5498f4c",
   "metadata": {},
   "outputs": [],
   "source": [
    "import xarray as xr\n",
    "import pandas as pd\n",
    "import numpy as np\n",
    "import matplotlib.pyplot as plt\n",
    "import glob"
   ]
  },
  {
   "cell_type": "code",
   "execution_count": 2,
   "id": "7e881278-0205-4f58-b7b0-017487a04b0b",
   "metadata": {},
   "outputs": [],
   "source": [
    "path_cdr='/storage2/tkyeimiah/CDR/'"
   ]
  },
  {
   "cell_type": "code",
   "execution_count": 3,
   "id": "c915c101-db95-42d7-9a89-8b54a48d98ff",
   "metadata": {},
   "outputs": [],
   "source": [
    "CT_combined_data = []\n",
    "time_coords = []\n",
    "# Example: Create new coordinate data for 'xgrid' and 'ygrid'\n",
    "xgrid_values = np.linspace(start=-3.8375e+06, stop=3.7375e+06, num=304)\n",
    "ygrid_values = np.linspace(start=5.8375e+06, stop=-5.3375e+06, num=448)\n",
    "\n",
    "for yyyy in range(1990, 2021):\n",
    "    for mm in range(1, 13):\n",
    "        pattern = f\"{path_cdr}seaice_conc_monthly_nh_{yyyy}{mm:02d}_*_v04r00.nc\"\n",
    "        file_paths = glob.glob(pattern)\n",
    "        \n",
    "        monthly_datasets = []\n",
    "        for file_path in file_paths:\n",
    "            ds = xr.open_dataset(file_path)\n",
    "            CT = ds['cdr_seaice_conc_monthly']\n",
    "            monthly_datasets.append(CT)\n",
    "        \n",
    "        # Assuming you want to combine all monthly data in each year before appending\n",
    "        if monthly_datasets:\n",
    "            combined_CT = xr.concat(monthly_datasets, dim='tdim')\n",
    "            CT_combined_data.append(combined_CT)\n",
    "            \n",
    "            # Create a time coordinate for each month\n",
    "            time_coords.append(pd.Timestamp(year=yyyy, month=mm, day=1))\n",
    "\n",
    "# Now combine all monthly data into one dataset\n",
    "CT_combined = xr.concat(CT_combined_data, dim='tdim')\n",
    "\n",
    "CT_combined = CT_combined.assign_coords(tdim=(\"tdim\", time_coords))\n",
    "CT_combined = CT_combined.assign_coords(x=('x', xgrid_values))\n",
    "CT_combined = CT_combined.assign_coords(y=('y', ygrid_values))\n",
    "CT_all_combined = CT_combined.drop_vars('time')\n",
    "CT_all_combined.to_netcdf('/storage2/tkyeimiah/CDR/CDR_CT.nc')"
   ]
  },
  {
   "cell_type": "code",
   "execution_count": null,
   "id": "56a5ce73-7351-402e-b974-4b60bf225331",
   "metadata": {},
   "outputs": [],
   "source": []
  }
 ],
 "metadata": {
  "kernelspec": {
   "display_name": "Python 3 (ipykernel)",
   "language": "python",
   "name": "python3"
  },
  "language_info": {
   "codemirror_mode": {
    "name": "ipython",
    "version": 3
   },
   "file_extension": ".py",
   "mimetype": "text/x-python",
   "name": "python",
   "nbconvert_exporter": "python",
   "pygments_lexer": "ipython3",
   "version": "3.10.6"
  }
 },
 "nbformat": 4,
 "nbformat_minor": 5
}
